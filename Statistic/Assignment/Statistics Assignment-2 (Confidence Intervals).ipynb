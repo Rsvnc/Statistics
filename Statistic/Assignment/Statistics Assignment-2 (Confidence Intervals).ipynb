{
 "cells": [
  {
   "cell_type": "markdown",
   "id": "ec2c2620",
   "metadata": {},
   "source": [
    "# Statistics Assignment-2 (Confidence Intervals)"
   ]
  },
  {
   "cell_type": "markdown",
   "id": "2ba4e0b8",
   "metadata": {},
   "source": [
    "<b>EXERCISE 1.</b> Suppose scores on exams in statistics are normally distributed with an unknown population mean and a population standard deviation of 3 points. A random sample of 36 scores is taken and gives a sample mean (sample  mean score) of 68. Find a confidence interval estimate for the population mean exam score (the mean score on all exams).\n",
    "\n",
    "Find a 90% confidence interval for the true (population) mean of statistics exam scores."
   ]
  },
  {
   "cell_type": "code",
   "execution_count": 1,
   "id": "fa320686",
   "metadata": {},
   "outputs": [],
   "source": [
    "import numpy as np\n",
    "import pandas as pd\n",
    "import scipy.stats as stats"
   ]
  },
  {
   "cell_type": "markdown",
   "id": "a6df9042",
   "metadata": {},
   "source": [
    "### given information"
   ]
  },
  {
   "cell_type": "markdown",
   "id": "03c06a76",
   "metadata": {},
   "source": [
    "standard deviation : 3 <br>\n",
    "sample : 36 <br>\n",
    "sample mean : 68 <br>"
   ]
  },
  {
   "cell_type": "code",
   "execution_count": 32,
   "id": "3c4e015a",
   "metadata": {},
   "outputs": [],
   "source": [
    "n = 36\n",
    "mean = 68\n",
    "stand = 3 "
   ]
  },
  {
   "cell_type": "code",
   "execution_count": 33,
   "id": "2c285438",
   "metadata": {},
   "outputs": [
    {
     "data": {
      "text/plain": [
       "0.5"
      ]
     },
     "execution_count": 33,
     "metadata": {},
     "output_type": "execute_result"
    }
   ],
   "source": [
    "sem=3/np.sqrt(n)\n",
    "sem"
   ]
  },
  {
   "cell_type": "code",
   "execution_count": 34,
   "id": "134ac4a1",
   "metadata": {},
   "outputs": [
    {
     "data": {
      "text/plain": [
       "0.8225"
      ]
     },
     "execution_count": 34,
     "metadata": {},
     "output_type": "execute_result"
    }
   ],
   "source": [
    "moe = 1.645*sem\n",
    "moe"
   ]
  },
  {
   "cell_type": "code",
   "execution_count": 35,
   "id": "db664013",
   "metadata": {},
   "outputs": [
    {
     "data": {
      "text/plain": [
       "67.1775"
      ]
     },
     "execution_count": 35,
     "metadata": {},
     "output_type": "execute_result"
    }
   ],
   "source": [
    "lower_lim= mean - moe\n",
    "lower_lim"
   ]
  },
  {
   "cell_type": "code",
   "execution_count": 36,
   "id": "85769180",
   "metadata": {},
   "outputs": [
    {
     "data": {
      "text/plain": [
       "68.8225"
      ]
     },
     "execution_count": 36,
     "metadata": {},
     "output_type": "execute_result"
    }
   ],
   "source": [
    "upper_lim = mean + moe\n",
    "upper_lim"
   ]
  },
  {
   "cell_type": "code",
   "execution_count": 37,
   "id": "09bfdbff",
   "metadata": {},
   "outputs": [
    {
     "data": {
      "text/plain": [
       "(67.17757318652427, 68.82242681347573)"
      ]
     },
     "execution_count": 37,
     "metadata": {},
     "output_type": "execute_result"
    }
   ],
   "source": [
    "stats.norm.interval(0.90,loc=68,scale=sem) #with stats 2.way"
   ]
  },
  {
   "cell_type": "markdown",
   "id": "122cd3e2",
   "metadata": {},
   "source": [
    "<b>EXERCISE 2.</b> What is the normal body temperature for healthy humans? A random sample of 130 healthy human body temperatures provided by Allen Shoemaker7 yielded 98.25 degrees and standard deviation 0.73 degrees. \n",
    "\n",
    "Give a 99% confidence interval for the average body temperature of healthy people."
   ]
  },
  {
   "cell_type": "markdown",
   "id": "d4b93802",
   "metadata": {},
   "source": [
    "### given information"
   ]
  },
  {
   "cell_type": "markdown",
   "id": "96d97ad4",
   "metadata": {},
   "source": [
    "standard deviation : 0.73 <br>\n",
    "sample : 130 <br>\n",
    "sample mean : 98.25 <br>"
   ]
  },
  {
   "cell_type": "code",
   "execution_count": 39,
   "id": "af848430",
   "metadata": {},
   "outputs": [],
   "source": [
    "n = 130\n",
    "mean = 98.25\n",
    "stand = 0.73 "
   ]
  },
  {
   "cell_type": "code",
   "execution_count": 40,
   "id": "b1cdba68",
   "metadata": {},
   "outputs": [
    {
     "data": {
      "text/plain": [
       "0.06402523540941313"
      ]
     },
     "execution_count": 40,
     "metadata": {},
     "output_type": "execute_result"
    }
   ],
   "source": [
    "sem=0.73/np.sqrt(n)\n",
    "sem"
   ]
  },
  {
   "cell_type": "code",
   "execution_count": 41,
   "id": "b1b657af",
   "metadata": {},
   "outputs": [
    {
     "data": {
      "text/plain": [
       "0.1648649811792388"
      ]
     },
     "execution_count": 41,
     "metadata": {},
     "output_type": "execute_result"
    }
   ],
   "source": [
    "moe = 2.575*sem\n",
    "moe"
   ]
  },
  {
   "cell_type": "code",
   "execution_count": 42,
   "id": "d8a18d34",
   "metadata": {},
   "outputs": [
    {
     "data": {
      "text/plain": [
       "98.08513501882076"
      ]
     },
     "execution_count": 42,
     "metadata": {},
     "output_type": "execute_result"
    }
   ],
   "source": [
    "lower_lim= mean - moe\n",
    "lower_lim"
   ]
  },
  {
   "cell_type": "code",
   "execution_count": 43,
   "id": "356d421f",
   "metadata": {},
   "outputs": [
    {
     "data": {
      "text/plain": [
       "98.41486498117924"
      ]
     },
     "execution_count": 43,
     "metadata": {},
     "output_type": "execute_result"
    }
   ],
   "source": [
    "upper_lim= mean + moe\n",
    "upper_lim"
   ]
  },
  {
   "cell_type": "code",
   "execution_count": 44,
   "id": "0b31d1bb",
   "metadata": {},
   "outputs": [
    {
     "data": {
      "text/plain": [
       "(98.08508192246582, 98.41491807753418)"
      ]
     },
     "execution_count": 44,
     "metadata": {},
     "output_type": "execute_result"
    }
   ],
   "source": [
    "stats.norm.interval(0.99,loc=98.25,scale=sem) #with stats 2.way"
   ]
  },
  {
   "cell_type": "markdown",
   "id": "8607919f",
   "metadata": {},
   "source": [
    "<b>EXERCISE 3.</b> The administrators for a hospital wished to estimate the average number of days required for inpatient treatment of patients between the ages of 25 and 34. A random sample of 500 hospital patients between these ages produced a mean and standard deviation equal to 5.4 and 3.1 days, respectively.\n",
    "Construct a 95% confidence interval for the mean length of stay for the population of patients from which the sample was drawn."
   ]
  },
  {
   "cell_type": "markdown",
   "id": "34e83a4f",
   "metadata": {},
   "source": [
    "### given information"
   ]
  },
  {
   "cell_type": "markdown",
   "id": "b1358cab",
   "metadata": {},
   "source": [
    "standard deviation : 3.1<br>\n",
    "sample : 500 <br>\n",
    "sample mean : 5.4 <br>"
   ]
  },
  {
   "cell_type": "code",
   "execution_count": 46,
   "id": "f2a42fff",
   "metadata": {},
   "outputs": [],
   "source": [
    "n = 500\n",
    "mean = 5.4\n",
    "stand = 3.1 "
   ]
  },
  {
   "cell_type": "code",
   "execution_count": 47,
   "id": "6560b4ee",
   "metadata": {},
   "outputs": [
    {
     "data": {
      "text/plain": [
       "0.13863621460498696"
      ]
     },
     "execution_count": 47,
     "metadata": {},
     "output_type": "execute_result"
    }
   ],
   "source": [
    "sem =3.1/np.sqrt(n)\n",
    "sem"
   ]
  },
  {
   "cell_type": "code",
   "execution_count": 49,
   "id": "d3637ce7",
   "metadata": {},
   "outputs": [
    {
     "data": {
      "text/plain": [
       "0.27172698062577444"
      ]
     },
     "execution_count": 49,
     "metadata": {},
     "output_type": "execute_result"
    }
   ],
   "source": [
    "moe=1.96*sem\n",
    "moe"
   ]
  },
  {
   "cell_type": "code",
   "execution_count": 50,
   "id": "2a482ec1",
   "metadata": {},
   "outputs": [
    {
     "data": {
      "text/plain": [
       "5.128273019374226"
      ]
     },
     "execution_count": 50,
     "metadata": {},
     "output_type": "execute_result"
    }
   ],
   "source": [
    "lower_lim= mean - moe\n",
    "lower_lim"
   ]
  },
  {
   "cell_type": "code",
   "execution_count": 51,
   "id": "b682494c",
   "metadata": {},
   "outputs": [
    {
     "data": {
      "text/plain": [
       "5.671726980625775"
      ]
     },
     "execution_count": 51,
     "metadata": {},
     "output_type": "execute_result"
    }
   ],
   "source": [
    "upper_lim= mean + moe\n",
    "upper_lim"
   ]
  },
  {
   "cell_type": "code",
   "execution_count": 52,
   "id": "d33cc36a",
   "metadata": {},
   "outputs": [
    {
     "data": {
      "text/plain": [
       "(5.12827801242126, 5.67172198757874)"
      ]
     },
     "execution_count": 52,
     "metadata": {},
     "output_type": "execute_result"
    }
   ],
   "source": [
    "stats.norm.interval(0.95,loc=5.4,scale=sem) #with stats 2.way"
   ]
  },
  {
   "cell_type": "code",
   "execution_count": null,
   "id": "31f92a32",
   "metadata": {},
   "outputs": [],
   "source": []
  }
 ],
 "metadata": {
  "kernelspec": {
   "display_name": "Python 3 (ipykernel)",
   "language": "python",
   "name": "python3"
  },
  "language_info": {
   "codemirror_mode": {
    "name": "ipython",
    "version": 3
   },
   "file_extension": ".py",
   "mimetype": "text/x-python",
   "name": "python",
   "nbconvert_exporter": "python",
   "pygments_lexer": "ipython3",
   "version": "3.10.5"
  }
 },
 "nbformat": 4,
 "nbformat_minor": 5
}
