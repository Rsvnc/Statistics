{
 "cells": [
  {
   "cell_type": "markdown",
   "id": "d9e53350",
   "metadata": {},
   "source": [
    "# HYPOTHESIS TEST"
   ]
  },
  {
   "cell_type": "markdown",
   "id": "08e2a825",
   "metadata": {},
   "source": [
    "<img src=\"IMG_1443.jpg\" alt=\"Girl in a jacket\" >"
   ]
  },
  {
   "cell_type": "markdown",
   "id": "d2a794a5",
   "metadata": {},
   "source": [
    "<img src=\"IMG_1444.jpg\" alt=\"Girl in a jacket\" >"
   ]
  },
  {
   "cell_type": "markdown",
   "id": "873e7750",
   "metadata": {},
   "source": [
    "<img src=\"IMG_1445.jpg\" alt=\"Girl in a jacket\" >"
   ]
  },
  {
   "cell_type": "markdown",
   "id": "36551406",
   "metadata": {},
   "source": [
    "<img src=\"IMG_1446.jpg\" alt=\"Girl in a jacket\" >"
   ]
  },
  {
   "cell_type": "markdown",
   "id": "b14211a5",
   "metadata": {},
   "source": [
    "<img src=\"IMG_1447.jpg\" alt=\"Girl in a jacket\" >"
   ]
  },
  {
   "cell_type": "markdown",
   "id": "3ff77e72",
   "metadata": {},
   "source": [
    "<img src=\"IMG_1448.jpg\" alt=\"Girl in a jacket\" >"
   ]
  },
  {
   "cell_type": "markdown",
   "id": "8a25af12",
   "metadata": {},
   "source": [
    "<img src=\"IMG_1449.jpg\" alt=\"Girl in a jacket\" >"
   ]
  },
  {
   "cell_type": "markdown",
   "id": "3413cad9",
   "metadata": {},
   "source": [
    "<img src=\"IMG_1450.jpg\" alt=\"Girl in a jacket\" >"
   ]
  },
  {
   "cell_type": "code",
   "execution_count": null,
   "id": "4ab5e9df",
   "metadata": {},
   "outputs": [],
   "source": []
  }
 ],
 "metadata": {
  "kernelspec": {
   "display_name": "Python 3 (ipykernel)",
   "language": "python",
   "name": "python3"
  },
  "language_info": {
   "codemirror_mode": {
    "name": "ipython",
    "version": 3
   },
   "file_extension": ".py",
   "mimetype": "text/x-python",
   "name": "python",
   "nbconvert_exporter": "python",
   "pygments_lexer": "ipython3",
   "version": "3.10.5"
  }
 },
 "nbformat": 4,
 "nbformat_minor": 5
}
